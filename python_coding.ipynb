{
  "nbformat": 4,
  "nbformat_minor": 0,
  "metadata": {
    "colab": {
      "provenance": [],
      "authorship_tag": "ABX9TyPYEx1Omep9Jen8bXjRnq5g",
      "include_colab_link": true
    },
    "kernelspec": {
      "name": "python3",
      "display_name": "Python 3"
    },
    "language_info": {
      "name": "python"
    }
  },
  "cells": [
    {
      "cell_type": "markdown",
      "metadata": {
        "id": "view-in-github",
        "colab_type": "text"
      },
      "source": [
        "<a href=\"https://colab.research.google.com/github/haneesha-thasni/python-interview-questions/blob/main/python_coding.ipynb\" target=\"_parent\"><img src=\"https://colab.research.google.com/assets/colab-badge.svg\" alt=\"Open In Colab\"/></a>"
      ]
    },
    {
      "cell_type": "code",
      "execution_count": null,
      "metadata": {
        "colab": {
          "base_uri": "https://localhost:8080/"
        },
        "id": "VqSThTVuHJtK",
        "outputId": "38dcb3af-e36e-48ca-8ffa-af791389fc2c"
      },
      "outputs": [
        {
          "output_type": "stream",
          "name": "stdout",
          "text": [
            "codeme\n",
            "welcome\n"
          ]
        }
      ],
      "source": [
        "# set A\n",
        "#1- write a program to swap 2 variables\n",
        "a=\"welcome\"\n",
        "b=\"codeme\"\n",
        "a,b=b,a\n",
        "print(a)\n",
        "print(b)"
      ]
    },
    {
      "cell_type": "code",
      "source": [
        "#2- write a program to add 2 numbers and print the result\n",
        "a=2\n",
        "b=5\n",
        "print(a+b)"
      ],
      "metadata": {
        "colab": {
          "base_uri": "https://localhost:8080/"
        },
        "id": "kwGX5jXujBw1",
        "outputId": "7bece4f4-3f12-40ce-e40c-4318a4ec8b9f"
      },
      "execution_count": null,
      "outputs": [
        {
          "output_type": "stream",
          "name": "stdout",
          "text": [
            "7\n"
          ]
        }
      ]
    },
    {
      "cell_type": "code",
      "source": [
        "#3- write a program to print all even numbers between 1 and 100\n",
        "for i in range(1,101):\n",
        "  if i%2==0:\n",
        "    print(i)"
      ],
      "metadata": {
        "colab": {
          "base_uri": "https://localhost:8080/"
        },
        "id": "sGepIDTDjyz0",
        "outputId": "fcd3cd1a-ebd7-4137-a880-4251137ee858"
      },
      "execution_count": null,
      "outputs": [
        {
          "output_type": "stream",
          "name": "stdout",
          "text": [
            "2\n",
            "4\n",
            "6\n",
            "8\n",
            "10\n",
            "12\n",
            "14\n",
            "16\n",
            "18\n",
            "20\n",
            "22\n",
            "24\n",
            "26\n",
            "28\n",
            "30\n",
            "32\n",
            "34\n",
            "36\n",
            "38\n",
            "40\n",
            "42\n",
            "44\n",
            "46\n",
            "48\n",
            "50\n",
            "52\n",
            "54\n",
            "56\n",
            "58\n",
            "60\n",
            "62\n",
            "64\n",
            "66\n",
            "68\n",
            "70\n",
            "72\n",
            "74\n",
            "76\n",
            "78\n",
            "80\n",
            "82\n",
            "84\n",
            "86\n",
            "88\n",
            "90\n",
            "92\n",
            "94\n",
            "96\n",
            "98\n",
            "100\n"
          ]
        }
      ]
    },
    {
      "cell_type": "code",
      "source": [
        "#4- write a program to reverse a string\n",
        "word=\"codeme\"[::-1]\n",
        "print(word)"
      ],
      "metadata": {
        "colab": {
          "base_uri": "https://localhost:8080/"
        },
        "id": "jyMsyM-8kmRb",
        "outputId": "502d082f-ac66-4825-9c73-3013ed631fd2"
      },
      "execution_count": null,
      "outputs": [
        {
          "output_type": "stream",
          "name": "stdout",
          "text": [
            "emedoc\n"
          ]
        }
      ]
    },
    {
      "cell_type": "code",
      "source": [
        "#5- calculate area of a circle given radious\n",
        "r=5\n",
        "pi=3.14\n",
        "area=pi*r**2\n",
        "print(area)"
      ],
      "metadata": {
        "colab": {
          "base_uri": "https://localhost:8080/"
        },
        "id": "tqY_JjaaMK2m",
        "outputId": "ef99d090-4190-447c-f3ad-ba5c2d17f2a3"
      },
      "execution_count": null,
      "outputs": [
        {
          "output_type": "stream",
          "name": "stdout",
          "text": [
            "78.5\n"
          ]
        }
      ]
    },
    {
      "cell_type": "code",
      "source": [
        "#6- find maximum of 2 numbers\n",
        "p=38\n",
        "r=98\n",
        "print(max(p,r))"
      ],
      "metadata": {
        "colab": {
          "base_uri": "https://localhost:8080/"
        },
        "id": "zDWen8RxNa0C",
        "outputId": "5937c350-3ccc-4477-9a75-ee5c2e610cc8"
      },
      "execution_count": null,
      "outputs": [
        {
          "output_type": "stream",
          "name": "stdout",
          "text": [
            "98\n"
          ]
        }
      ]
    },
    {
      "cell_type": "code",
      "source": [
        "#7- find the sum of all numbers in a list\n",
        "mark=[12,13,14,15]\n",
        "print(sum(mark))"
      ],
      "metadata": {
        "colab": {
          "base_uri": "https://localhost:8080/"
        },
        "id": "H83wJt10OL1i",
        "outputId": "39aca20a-07e0-4020-d57d-62e7cc823582"
      },
      "execution_count": null,
      "outputs": [
        {
          "output_type": "stream",
          "name": "stdout",
          "text": [
            "54\n"
          ]
        }
      ]
    },
    {
      "cell_type": "code",
      "source": [
        "#8- find the second largest number in a list\n",
        "k=[1,9,5,7,2,8]\n",
        "k.sort()\n",
        "print(k[-2])"
      ],
      "metadata": {
        "colab": {
          "base_uri": "https://localhost:8080/"
        },
        "id": "mr0wP_qROgR6",
        "outputId": "a561e11b-3494-454c-c5c7-c89c01db7670"
      },
      "execution_count": null,
      "outputs": [
        {
          "output_type": "stream",
          "name": "stdout",
          "text": [
            "8\n"
          ]
        }
      ]
    },
    {
      "cell_type": "code",
      "source": [
        "#9- take a number as an argument and return its square\n",
        "def sqnum(number):\n",
        "  return number**2\n",
        "result=sqnum(2)\n",
        "print(result)"
      ],
      "metadata": {
        "colab": {
          "base_uri": "https://localhost:8080/"
        },
        "id": "u_yFDyVjRNT8",
        "outputId": "6d78889b-58b4-47c0-b0d0-b1cbe094e447"
      },
      "execution_count": null,
      "outputs": [
        {
          "output_type": "stream",
          "name": "stdout",
          "text": [
            "4\n"
          ]
        }
      ]
    },
    {
      "cell_type": "code",
      "source": [
        "#10- count the number of vowels in a string\n",
        "words=\"codeme hub international\"\n",
        "v=['a','e','i','o','u','A','E','I','O','U']\n",
        "count=0\n",
        "for char in words:\n",
        "  if char in v:\n",
        "    count+=1\n",
        "print(count)\n",
        "\n"
      ],
      "metadata": {
        "colab": {
          "base_uri": "https://localhost:8080/"
        },
        "id": "iPxXPxD6Wo-U",
        "outputId": "dec0f9c5-6e45-4a12-c4f8-ac743d2efc88"
      },
      "execution_count": null,
      "outputs": [
        {
          "output_type": "stream",
          "name": "stdout",
          "text": [
            "10\n"
          ]
        }
      ]
    },
    {
      "cell_type": "code",
      "source": [
        "# set B\n",
        "#1- sort a list of numbers in acsending order\n",
        "age=[1,5,33,64,76,12]\n",
        "age.sort()\n",
        "print(age)"
      ],
      "metadata": {
        "colab": {
          "base_uri": "https://localhost:8080/"
        },
        "id": "J4i_uZwbaiZc",
        "outputId": "06718320-2b48-4164-95a3-4113c5118ba2"
      },
      "execution_count": null,
      "outputs": [
        {
          "output_type": "stream",
          "name": "stdout",
          "text": [
            "[1, 5, 12, 33, 64, 76]\n"
          ]
        }
      ]
    },
    {
      "cell_type": "code",
      "source": [
        "#2- find the sum of first n natural numbers\n",
        "n=int(input(\"enter the limit\"))\n",
        "sum=0\n",
        "for i in range(n):\n",
        "  sum+=i\n",
        "print(sum)"
      ],
      "metadata": {
        "colab": {
          "base_uri": "https://localhost:8080/"
        },
        "id": "jIfcbHeJbkFy",
        "outputId": "7fae60c8-4314-443c-aae6-4c19fa66e416"
      },
      "execution_count": null,
      "outputs": [
        {
          "output_type": "stream",
          "name": "stdout",
          "text": [
            "enter the limit15\n",
            "105\n"
          ]
        }
      ]
    },
    {
      "cell_type": "code",
      "source": [
        "#3- find the intersection of two sets\n",
        "set1={1,2,3,4,5}\n",
        "set2={3,4,5,6,7,8}\n",
        "intersection=set1.intersection(set2)\n",
        "print(intersection)"
      ],
      "metadata": {
        "colab": {
          "base_uri": "https://localhost:8080/"
        },
        "id": "cq8UNjYyf6bq",
        "outputId": "2207bcd3-2811-46ca-e729-d5e079f87368"
      },
      "execution_count": null,
      "outputs": [
        {
          "output_type": "stream",
          "name": "stdout",
          "text": [
            "{3, 4, 5}\n"
          ]
        }
      ]
    },
    {
      "cell_type": "code",
      "source": [
        "#4- write a program to ask the user for their name and print a greeting message with their name\n",
        "name=input(\"enter your name\")\n",
        "print(f\"hi {name} good morning\\n how are you?\")"
      ],
      "metadata": {
        "colab": {
          "base_uri": "https://localhost:8080/"
        },
        "id": "RSNnG22ihYLn",
        "outputId": "bed736bf-e577-47bd-cde6-7cbda4b908b9"
      },
      "execution_count": null,
      "outputs": [
        {
          "output_type": "stream",
          "name": "stdout",
          "text": [
            "enter your namehaneesha\n",
            "hi haneesha good morning\n",
            " how are you?\n"
          ]
        }
      ]
    },
    {
      "cell_type": "code",
      "source": [
        "#5- check if a given number is even or odd\n",
        "number=int(input(\"enter a number\"))\n",
        "if number%2==0:\n",
        "  print(\"the number is even\")\n",
        "else:\n",
        "  print(\"the number is odd\")"
      ],
      "metadata": {
        "colab": {
          "base_uri": "https://localhost:8080/"
        },
        "id": "0z_LX-NLjNWo",
        "outputId": "d6daec9e-3a28-43d6-f90c-52a3dca14c9f"
      },
      "execution_count": null,
      "outputs": [
        {
          "output_type": "stream",
          "name": "stdout",
          "text": [
            "enter a number5\n",
            "the number is odd\n"
          ]
        }
      ]
    },
    {
      "cell_type": "code",
      "source": [
        "#6- create a list of 5 fruits and print the list\n",
        "fruits=[]\n",
        "for i in range(5):\n",
        "  name=input(f\"enter the fruit name {i+1}:\")\n",
        "  fruits.append(name)\n",
        "print(fruits)"
      ],
      "metadata": {
        "colab": {
          "base_uri": "https://localhost:8080/"
        },
        "id": "hoZHcWFPj_cy",
        "outputId": "982f851d-b231-4e46-888d-6eae4cc01099"
      },
      "execution_count": null,
      "outputs": [
        {
          "output_type": "stream",
          "name": "stdout",
          "text": [
            "enter the fruit name 1:banana\n",
            "enter the fruit name 2:kiwi\n",
            "enter the fruit name 3:mango\n",
            "enter the fruit name 4:apple\n",
            "enter the fruit name 5:orange\n",
            "['banana', 'kiwi', 'mango', 'apple', 'orange']\n"
          ]
        }
      ]
    },
    {
      "cell_type": "code",
      "source": [
        "#7- write a function to add 2 numbers\n",
        "def sumnum(num1,num2):\n",
        "  return num1+num2\n",
        "num1=int(input(\"enter the first number\"))\n",
        "num2=int(input(\"enter the second number\"))\n",
        "result=sumnum(num1,num2)\n",
        "print(result)\n"
      ],
      "metadata": {
        "colab": {
          "base_uri": "https://localhost:8080/"
        },
        "id": "CaQl9ze_yu7g",
        "outputId": "485b0299-8999-4266-f930-883c45235706"
      },
      "execution_count": null,
      "outputs": [
        {
          "output_type": "stream",
          "name": "stdout",
          "text": [
            "enter the first number3\n",
            "enter the second number2\n",
            "5\n"
          ]
        }
      ]
    },
    {
      "cell_type": "code",
      "source": [
        "#8- find the common element in 2 lists\n",
        "list1=[1,2,3,4,5,6,7]\n",
        "list2=[5,6,7,8,9]\n",
        "list3=[]\n",
        "for i in list1:\n",
        "  for j in list2:\n",
        "    if i==j:\n",
        "      list3.append(i)\n",
        "print(list3)"
      ],
      "metadata": {
        "colab": {
          "base_uri": "https://localhost:8080/"
        },
        "id": "wzwbgK16nJeD",
        "outputId": "20bd74c8-bb1b-4523-c79e-fa09de04d5a6"
      },
      "execution_count": null,
      "outputs": [
        {
          "output_type": "stream",
          "name": "stdout",
          "text": [
            "[5, 6, 7]\n"
          ]
        }
      ]
    },
    {
      "cell_type": "code",
      "source": [
        "#9- write a program that ask the user for a list of numbers and then prints the average of those numbers\n",
        "list1=[]\n",
        "sumlist=0\n",
        "limit=int(input(\"enter a limit to the list\"))\n",
        "while limit>0:\n",
        "  new=int(input(\"enter a number into the list\"))\n",
        "  list1.append(new)\n",
        "  limit-=1\n",
        "sumlist=sum(list1)\n",
        "average=sumlist/len(list1)\n",
        "print(average)\n"
      ],
      "metadata": {
        "colab": {
          "base_uri": "https://localhost:8080/"
        },
        "id": "avwPogZ7w3gx",
        "outputId": "679a45b2-5d23-45ea-a44e-0bad2fb4a3cb"
      },
      "execution_count": null,
      "outputs": [
        {
          "output_type": "stream",
          "name": "stdout",
          "text": [
            "enter a limit to the list3\n",
            "enter a number into the list1\n",
            "enter a number into the list2\n",
            "enter a number into the list3\n",
            "[1, 2, 3]\n",
            "2.0\n"
          ]
        }
      ]
    },
    {
      "cell_type": "code",
      "source": [
        "#test C\n",
        "#1- write a program that creates a dictionary with 3 key-value pairs and print it.\n",
        "haneesha={}\n",
        "limit=3\n",
        "for i in range(limit):\n",
        "  key=input(\"enter a key\")\n",
        "  value=input(\"enter the value\")\n",
        "  haneesha[key]=value\n",
        "print(\"haneesha =\", haneesha)"
      ],
      "metadata": {
        "colab": {
          "base_uri": "https://localhost:8080/"
        },
        "id": "zZiRJ6aN31bp",
        "outputId": "a10a0573-11d1-477e-9bc0-d7a3b7c1b944"
      },
      "execution_count": null,
      "outputs": [
        {
          "output_type": "stream",
          "name": "stdout",
          "text": [
            "enter a keymaths\n",
            "enter the value100\n",
            "enter a keyenglish\n",
            "enter the value100\n",
            "enter a keyhindi\n",
            "enter the value99\n",
            "haneesha = {'maths': '100', 'english': '100', 'hindi': '99'}\n"
          ]
        }
      ]
    },
    {
      "cell_type": "code",
      "source": [
        "#2- write a program that prints numbers from 1-5 using a while loop\n",
        "num=1\n",
        "while num<6:\n",
        "  print(num)\n",
        "  num+=1"
      ],
      "metadata": {
        "colab": {
          "base_uri": "https://localhost:8080/"
        },
        "id": "3zvI04KF4fAJ",
        "outputId": "dbede541-2268-40b7-c370-058e4a6d8832"
      },
      "execution_count": null,
      "outputs": [
        {
          "output_type": "stream",
          "name": "stdout",
          "text": [
            "1\n",
            "2\n",
            "3\n",
            "4\n",
            "5\n"
          ]
        }
      ]
    },
    {
      "cell_type": "code",
      "source": [
        "#3- write a program that asks the user for numbers and prints their sum\n",
        "num1=int(input(\"enter a number\"))\n",
        "num2=int(input(\"enter another number\"))\n",
        "sum=num1+num2\n",
        "print(f\"{num1} + {num2} = {sum}\")\n"
      ],
      "metadata": {
        "colab": {
          "base_uri": "https://localhost:8080/"
        },
        "id": "Bxh3v8uP6kXu",
        "outputId": "4d3b24c9-2b21-47a0-a51a-f3092d787cab"
      },
      "execution_count": null,
      "outputs": [
        {
          "output_type": "stream",
          "name": "stdout",
          "text": [
            "enter a number5\n",
            "enter another number3\n",
            "5 + 3 = 8\n"
          ]
        }
      ]
    },
    {
      "cell_type": "code",
      "source": [
        "#4- write a program that prints the first and last elements of a list.\n",
        "list1=[1,2,3,4,5,6,7,8,9]\n",
        "print(\"first element in list1 is \",list1[0])\n",
        "print(\"last element in list1 is \",list1[-1])\n"
      ],
      "metadata": {
        "colab": {
          "base_uri": "https://localhost:8080/"
        },
        "id": "wXkYUbD0749w",
        "outputId": "84ab5850-536d-4bb4-f476-0fca757d864e"
      },
      "execution_count": null,
      "outputs": [
        {
          "output_type": "stream",
          "name": "stdout",
          "text": [
            "first element in list1 is  1\n",
            "last element in list1 is  9\n"
          ]
        }
      ]
    },
    {
      "cell_type": "code",
      "source": [
        "#5- concatenate two strings and print the result\n",
        "word1=\"hello\"\n",
        "word2=\" codeme hub\"\n",
        "print(word1+word2)"
      ],
      "metadata": {
        "colab": {
          "base_uri": "https://localhost:8080/"
        },
        "id": "5eezuDOD9Lci",
        "outputId": "c3e0d3ce-0a9f-4c77-e904-fa330baac75d"
      },
      "execution_count": null,
      "outputs": [
        {
          "output_type": "stream",
          "name": "stdout",
          "text": [
            "hello codeme hub\n"
          ]
        }
      ]
    },
    {
      "cell_type": "code",
      "source": [
        "#6- compare 2 numbers and print which one is larger\n",
        "a=int(input(\"enter a number\"))\n",
        "b=int(input(\"enter another number\"))\n",
        "if a>b:\n",
        "  print(f\"{a} is larger than {b}\")\n",
        "else:\n",
        "  print(f\"{b} is larger than {a}\")"
      ],
      "metadata": {
        "colab": {
          "base_uri": "https://localhost:8080/"
        },
        "id": "s71Yw5qf91K-",
        "outputId": "41448720-8f14-4e4d-c710-ab03d6173660"
      },
      "execution_count": null,
      "outputs": [
        {
          "output_type": "stream",
          "name": "stdout",
          "text": [
            "enter a number8\n",
            "enter another number2\n",
            "8 is larger than 2\n"
          ]
        }
      ]
    },
    {
      "cell_type": "code",
      "source": [
        "#7- to generate a list of even numbers from 1-20\n",
        "even=[]\n",
        "for i in range(1,21):\n",
        "  if i%2==0:\n",
        "    even.append(i)\n",
        "print(\"even =\", even)"
      ],
      "metadata": {
        "colab": {
          "base_uri": "https://localhost:8080/"
        },
        "id": "d3M-7PM4_JTZ",
        "outputId": "f3cfca87-5903-439f-841d-653e5cde1f6b"
      },
      "execution_count": null,
      "outputs": [
        {
          "output_type": "stream",
          "name": "stdout",
          "text": [
            "even = [2, 4, 6, 8, 10, 12, 14, 16, 18, 20]\n"
          ]
        }
      ]
    },
    {
      "cell_type": "code",
      "source": [
        "# set D\n",
        "#1- write a function factorial that returns the factorial of a given number\n",
        "def factorial(num):\n",
        "  fact=1\n",
        "  while num>=1:\n",
        "    fact*=num\n",
        "    num-=1\n",
        "  return fact\n",
        "num=int(input(\"enter a number\"))\n",
        "print(factorial(num))"
      ],
      "metadata": {
        "colab": {
          "base_uri": "https://localhost:8080/"
        },
        "id": "CtBWpt7cML-0",
        "outputId": "20fdc8a2-765d-4e77-bcb0-ab1e40b96fee"
      },
      "execution_count": null,
      "outputs": [
        {
          "output_type": "stream",
          "name": "stdout",
          "text": [
            "enter a number4\n",
            "24\n"
          ]
        }
      ]
    },
    {
      "cell_type": "code",
      "source": [
        "#2- write a function intersection that finds the intersection of two lists.\n",
        "def intersection(list1,list2):\n",
        "  result=[]\n",
        "  for element in list1:\n",
        "    if element in list2 and element not in result:\n",
        "      result.append(element)\n",
        "  return result\n",
        "list1=[1,2,3,4,5,6,7,8,9,10]\n",
        "list2=[2,4,6,8,10]\n",
        "print(intersection(list1,list2))\n"
      ],
      "metadata": {
        "colab": {
          "base_uri": "https://localhost:8080/"
        },
        "id": "4kt52IrQG2bJ",
        "outputId": "67dc3640-0500-488e-f49d-eebc26c5b12a"
      },
      "execution_count": null,
      "outputs": [
        {
          "output_type": "stream",
          "name": "stdout",
          "text": [
            "[2, 4, 6, 8, 10]\n"
          ]
        }
      ]
    },
    {
      "cell_type": "code",
      "source": [
        "#3- write a function squares that take a list of integers and returns a new list\n",
        "'''containing the squares of all the even numbers from the original list using\n",
        "list comprehension.'''\n",
        "def squares(integers):\n",
        "  return[i**2 for i in integers if i%2==0]\n",
        "integers=[12,13,14,15,16]\n",
        "print(squares(integers))\n"
      ],
      "metadata": {
        "id": "v-nP3f7eHI9H",
        "colab": {
          "base_uri": "https://localhost:8080/"
        },
        "outputId": "9c172bac-45d0-4205-b510-b26e564a4fd3"
      },
      "execution_count": null,
      "outputs": [
        {
          "output_type": "stream",
          "name": "stdout",
          "text": [
            "[144, 196, 256]\n"
          ]
        }
      ]
    },
    {
      "cell_type": "code",
      "source": [
        "#4- write a function double_numbers that takes a list of integers and returns\n",
        "'''a new list containing each number doubled using list comprehension.'''\n",
        "def double_numbers(num):\n",
        "  return[i*2 for i in num]\n",
        "num=[1,3,5,7,9]\n",
        "print(double_numbers(num))"
      ],
      "metadata": {
        "id": "8lx95pdTHyNN",
        "colab": {
          "base_uri": "https://localhost:8080/"
        },
        "outputId": "aa1c8cec-f4ee-4317-db44-32cec9ddba8a"
      },
      "execution_count": null,
      "outputs": [
        {
          "output_type": "stream",
          "name": "stdout",
          "text": [
            "[2, 6, 10, 14, 18]\n"
          ]
        }
      ]
    },
    {
      "cell_type": "code",
      "source": [
        "#5- write a function increment_elements that takes a list of integers and returns\n",
        "'''a new list where each element is incremented by one using the map function and a lambda expression'''\n",
        "def increment_elements(num):\n",
        "  return list(map(lambda i:i+1, num))\n",
        "num=[1,2,3,4,5]\n",
        "print(increment_elements(num))"
      ],
      "metadata": {
        "id": "E7LFamZiIRI4",
        "colab": {
          "base_uri": "https://localhost:8080/"
        },
        "outputId": "254b1883-3b62-499a-c807-d3a081fca3e9"
      },
      "execution_count": null,
      "outputs": [
        {
          "output_type": "stream",
          "name": "stdout",
          "text": [
            "[2, 3, 4, 5, 6]\n"
          ]
        }
      ]
    },
    {
      "cell_type": "code",
      "source": [
        "#6- write a function remove_elements that takes a list of integers and an integer n, and returns a\n",
        "'''new list with all occurences of n removed from the original list.'''\n",
        "def remove_elements(num,n):\n",
        "  return[i for i in num if i!=n]\n",
        "num=[1,2,3,4,5,6,7,8,9]\n",
        "n=2\n",
        "print(remove_elements(num,n))"
      ],
      "metadata": {
        "id": "Yng0xcYxI87E",
        "colab": {
          "base_uri": "https://localhost:8080/"
        },
        "outputId": "922394be-3fb3-4206-a4de-1e47cb49513e"
      },
      "execution_count": null,
      "outputs": [
        {
          "output_type": "stream",
          "name": "stdout",
          "text": [
            "[1, 3, 4, 5, 6, 7, 8, 9]\n"
          ]
        }
      ]
    },
    {
      "cell_type": "code",
      "source": [
        "#7- write a function count_words that take a list of strings and  returns a new list\n",
        "'''containing the words that occur more than twice without using the counter class'''\n",
        "def count_words(strings):\n",
        "  word_count={}\n",
        "  for word in strings:\n",
        "    if word in word_count:\n",
        "      word_count[word]+=1\n",
        "    else:\n",
        "      word_count[word]=1\n",
        "    result=[]\n",
        "  for i,j in word_count.items():\n",
        "    if j>=2:\n",
        "      result.append(i)\n",
        "  return result\n",
        "strings=[\"apple\",\"banana\",\"mango\",\"apple\",\"mango\",\"mango\",\"orange\",\"banana\"]\n",
        "print(count_words(strings))"
      ],
      "metadata": {
        "id": "YRASMTHFJbPJ",
        "colab": {
          "base_uri": "https://localhost:8080/"
        },
        "outputId": "2c7fcbd9-9847-46b4-a93c-264844782c56"
      },
      "execution_count": null,
      "outputs": [
        {
          "output_type": "stream",
          "name": "stdout",
          "text": [
            "['apple', 'banana', 'mango']\n"
          ]
        }
      ]
    },
    {
      "cell_type": "code",
      "source": [
        "#8- write a function count_alphabet_occurences that take a list of words and returns a\n",
        "''' dictionary where the keys are alphabetic charecters and the values are the\n",
        "number of times each charecter appears across all the words in the list'''\n",
        "def count_alphabet_occurences(words):\n",
        "  char_count={}\n",
        "  for word in words:\n",
        "    for char in word:\n",
        "      if char.isalpha():\n",
        "        char=char.lower()\n",
        "        if char in char_count:\n",
        "          char_count[char]+=1\n",
        "        else:\n",
        "          char_count[char]=1\n",
        "  return char_count\n",
        "words=[\"python\",\"programming\",\"language\"]\n",
        "result=count_alphabet_occurences(words)\n",
        "print(result)"
      ],
      "metadata": {
        "id": "iuf3FEzLKK8b",
        "colab": {
          "base_uri": "https://localhost:8080/"
        },
        "outputId": "41a24642-dd1f-4398-e810-d4f9572b8016"
      },
      "execution_count": 3,
      "outputs": [
        {
          "output_type": "stream",
          "name": "stdout",
          "text": [
            "{'p': 2, 'y': 1, 't': 1, 'h': 1, 'o': 2, 'n': 3, 'r': 2, 'g': 4, 'a': 3, 'm': 2, 'i': 1, 'l': 1, 'u': 1, 'e': 1}\n"
          ]
        }
      ]
    },
    {
      "cell_type": "code",
      "source": [
        "#9- write a function flatten_list that takes a list of lists and return a single list\n",
        "'''containing all the elements from the nested lists'''\n",
        "def flatten_list(nested_list):\n",
        "  return[item for sublist in nested_list for item in sublist]\n",
        "nested_list=[[1,2,3],[4,5],[6,7,8],[9,10]]\n",
        "print(flatten_list(nested_list))"
      ],
      "metadata": {
        "id": "9bp3M_9TK7DA",
        "colab": {
          "base_uri": "https://localhost:8080/"
        },
        "outputId": "13560c5a-3fae-42eb-a0f7-ae1bbbc1acf9"
      },
      "execution_count": 2,
      "outputs": [
        {
          "output_type": "stream",
          "name": "stdout",
          "text": [
            "[1, 2, 3, 4, 5, 6, 7, 8, 9, 10]\n"
          ]
        }
      ]
    },
    {
      "cell_type": "code",
      "source": [
        "#10- write a function remove_duplicates that takes a list and returns a new list with duplicate elements removed.\n",
        "def remove_elements(list1):\n",
        "  new_list=[]\n",
        "  for i in list1:\n",
        "    if i not in new_list:\n",
        "      new_list.append(i)\n",
        "  return new_list\n",
        "list1=[1,2,3,4,5,2,4]\n",
        "print(remove_elements(list1))"
      ],
      "metadata": {
        "id": "KpIsY_JALYcj",
        "colab": {
          "base_uri": "https://localhost:8080/"
        },
        "outputId": "80ad531c-c759-43af-d43a-fc0de2326d1e"
      },
      "execution_count": null,
      "outputs": [
        {
          "output_type": "stream",
          "name": "stdout",
          "text": [
            "[1, 2, 3, 4, 5]\n"
          ]
        }
      ]
    }
  ]
}